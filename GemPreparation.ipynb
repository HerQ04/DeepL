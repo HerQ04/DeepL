{
  "nbformat": 4,
  "nbformat_minor": 0,
  "metadata": {
    "colab": {
      "provenance": [],
      "gpuType": "T4"
    },
    "kernelspec": {
      "name": "python3",
      "display_name": "Python 3"
    },
    "language_info": {
      "name": "python"
    },
    "accelerator": "GPU"
  },
  "cells": [
    {
      "cell_type": "markdown",
      "source": [
        "<a target=\"_blank\" href=\"https://colab.research.google.com/github/HerQTheToxic/DeepL/blob/main/GemPreparation.ipynb\">\n",
        "  <img src=\"https://colab.research.google.com/assets/colab-badge.svg\" alt=\"Open In Colab\"/>\n",
        "</a>"
      ],
      "metadata": {
        "id": "cewIyRH0xk0J"
      }
    },
    {
      "cell_type": "markdown",
      "source": [
        "# Installing dependencies and downloading dataset"
      ],
      "metadata": {
        "id": "DLHF5XTgpSjm"
      }
    },
    {
      "cell_type": "code",
      "execution_count": null,
      "metadata": {
        "id": "CxldPEZMFjpT"
      },
      "outputs": [],
      "source": [
        "!git clone https://github.com/ultralytics/yolov5  # clone\n",
        "%cd yolov5\n",
        "%pip install -qr requirements.txt comet_ml  # install"
      ]
    },
    {
      "cell_type": "code",
      "source": [
        "!pip install roboflow\n",
        "\n",
        "from roboflow import Roboflow\n",
        "rf = Roboflow(api_key=\"FYXm4j188EfCcP2ODqYO\")\n",
        "project = rf.workspace(\"msc-onlab-1\").project(\"gem-9oe6g\")\n",
        "dataset = project.version(3).download(\"yolov5\")"
      ],
      "metadata": {
        "id": "esmnlQMEm7Xb"
      },
      "execution_count": null,
      "outputs": []
    },
    {
      "cell_type": "markdown",
      "source": [
        "# Training for 60 epoch without automatic YOLOv5 data augmentation"
      ],
      "metadata": {
        "id": "pN8LKBEYaH1G"
      }
    },
    {
      "cell_type": "code",
      "source": [
        "!python train.py --img 640 --epochs 60 --data /content/yolov5/Gem-3/data.yaml --patience 5 --weights yolov5m.pt --hyp \"/content/yolov5/data/hyps/hyp.no-augmentation.yaml\""
      ],
      "metadata": {
        "id": "8tYWgZHqIiRi"
      },
      "execution_count": null,
      "outputs": []
    },
    {
      "cell_type": "markdown",
      "source": [
        "# Testing"
      ],
      "metadata": {
        "id": "4fphPr18i56O"
      }
    },
    {
      "cell_type": "code",
      "source": [
        "#Change Data.yaml because the base YOLOv5 yaml is broken (2023.12.01)\n",
        "!gdown https://drive.google.com/uc?id=1RMd_XD4McnPMC0-hNvFdS-qQaI3FTgJ- -O /content/yolov5/Gem-3/data.yaml\n",
        "\n"
      ],
      "metadata": {
        "id": "byWUBMlfi5SG"
      },
      "execution_count": null,
      "outputs": []
    },
    {
      "cell_type": "code",
      "source": [
        "!python val.py --weights /content/yolov5/runs/train/exp/weights/best.pt --data /content/yolov5/Gem-3/data.yaml --task test"
      ],
      "metadata": {
        "id": "lPsidYVo2vbp"
      },
      "execution_count": null,
      "outputs": []
    }
  ]
}