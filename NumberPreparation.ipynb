{
  "nbformat": 4,
  "nbformat_minor": 0,
  "metadata": {
    "colab": {
      "provenance": [],
      "gpuType": "T4"
    },
    "kernelspec": {
      "name": "python3",
      "display_name": "Python 3"
    },
    "language_info": {
      "name": "python"
    },
    "accelerator": "GPU"
  },
  "cells": [
    {
      "cell_type": "markdown",
      "source": [
        "<a target=\"_blank\" href=\"https://colab.research.google.com/github/HerQTheToxic/DeepL/blob/main/NumberPreparation.ipynb\">\n",
        "  <img src=\"https://colab.research.google.com/assets/colab-badge.svg\" alt=\"Open In Colab\"/>\n",
        "</a>"
      ],
      "metadata": {
        "id": "_uLJJsFLxSdb"
      }
    },
    {
      "cell_type": "markdown",
      "source": [
        "# Installing dependencies and downloading dataset"
      ],
      "metadata": {
        "id": "fDqdvUK6plGO"
      }
    },
    {
      "cell_type": "code",
      "source": [
        "!git clone https://github.com/ultralytics/yolov5  # clone\n",
        "%cd yolov5\n",
        "%pip install -qr requirements.txt comet_ml  # install"
      ],
      "metadata": {
        "id": "A10QnWxOLBxj"
      },
      "execution_count": null,
      "outputs": []
    },
    {
      "cell_type": "code",
      "execution_count": null,
      "metadata": {
        "id": "DiV-uFzbFroO"
      },
      "outputs": [],
      "source": [
        "!pip install roboflow\n",
        "\n",
        "from roboflow import Roboflow\n",
        "rf = Roboflow(api_key=\"SxuYMZXxffR0QJsCcjYT\")\n",
        "project = rf.workspace(\"legoproject\").project(\"digital-numbers-vqqx2\")\n",
        "dataset = project.version(4).download(\"yolov5\")"
      ]
    },
    {
      "cell_type": "markdown",
      "source": [
        "# Training YOLOv5 modell for 40 epoch"
      ],
      "metadata": {
        "id": "l93rRRc0po7C"
      }
    },
    {
      "cell_type": "code",
      "source": [
        "!python train.py --img 640 --epochs 40 --data /content/yolov5/Digital-numbers-4/data.yaml --patience 5 --weights yolov5m.pt"
      ],
      "metadata": {
        "id": "-T0MRoEIbEY4"
      },
      "execution_count": null,
      "outputs": []
    },
    {
      "cell_type": "markdown",
      "source": [
        "# Testing"
      ],
      "metadata": {
        "id": "TlpI6e96qD6z"
      }
    },
    {
      "cell_type": "code",
      "source": [
        "#Change Data.yaml because the base YOLOv5 yaml is broken (2023.12.01)\n",
        "!gdown https://drive.google.com/uc?id=19VHpkhOxxAR-nxhhqj5KAs_8eTsR4Dfi -O /content/yolov5/Digital-numbers-4/data.yaml"
      ],
      "metadata": {
        "id": "p2PuRIeDsZak"
      },
      "execution_count": null,
      "outputs": []
    },
    {
      "cell_type": "code",
      "source": [
        "!python val.py --weights /content/yolov5/runs/train/exp/weights/best.pt --data /content/yolov5/Digital-numbers-4/data.yaml --task test"
      ],
      "metadata": {
        "id": "kp8rxKb6qDS5"
      },
      "execution_count": null,
      "outputs": []
    }
  ]
}