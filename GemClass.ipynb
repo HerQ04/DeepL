{
  "nbformat": 4,
  "nbformat_minor": 0,
  "metadata": {
    "colab": {
      "provenance": []
    },
    "kernelspec": {
      "name": "python3",
      "display_name": "Python 3"
    },
    "language_info": {
      "name": "python"
    },
    "accelerator": "GPU",
    "gpuClass": "standard"
  },
  "cells": [
    {
      "cell_type": "markdown",
      "source": [
        "<a target=\"_blank\" href=\"https://colab.research.google.com/github/HerQTheToxic/DeepL/blob/main/GemClass.ipynb\">\n",
        "  <img src=\"https://colab.research.google.com/assets/colab-badge.svg\" alt=\"Open In Colab\"/>\n",
        "</a>"
      ],
      "metadata": {
        "id": "xHUiPcaHoZCI"
      }
    },
    {
      "cell_type": "markdown",
      "source": [
        "# Installing dependencies and downloading dataset"
      ],
      "metadata": {
        "id": "ZRRYJflLXq0r"
      }
    },
    {
      "cell_type": "code",
      "execution_count": null,
      "metadata": {
        "id": "pIM7fOwm8A7l",
        "colab": {
          "base_uri": "https://localhost:8080/"
        },
        "outputId": "034d96ce-bb2d-47a3-b1fe-044ac99a74fb"
      },
      "outputs": [
        {
          "output_type": "stream",
          "name": "stderr",
          "text": [
            "YOLOv5 🚀 v7.0-247-g3f02fde Python-3.10.12 torch-2.1.0+cu118 CUDA:0 (Tesla T4, 15102MiB)\n"
          ]
        },
        {
          "output_type": "stream",
          "name": "stdout",
          "text": [
            "Setup complete ✅ (2 CPUs, 12.7 GB RAM, 27.1/78.2 GB disk)\n"
          ]
        }
      ],
      "source": [
        "!git clone https://github.com/ultralytics/yolov5  # clone\n",
        "%cd yolov5\n",
        "%pip install -qr requirements.txt  # install\n",
        "\n",
        "import torch\n",
        "import utils\n",
        "display = utils.notebook_init()  # checks"
      ]
    },
    {
      "cell_type": "code",
      "source": [
        "\n",
        "!pip install roboflow\n",
        "\n",
        "from roboflow import Roboflow\n",
        "rf = Roboflow(api_key=\"FYXm4j188EfCcP2ODqYO\")\n",
        "project = rf.workspace(\"msc-onlab-1\").project(\"gem-q84tk\")\n",
        "dataset = project.version(3).download(\"folder\")\n"
      ],
      "metadata": {
        "id": "He6JwHIlG-W_",
        "colab": {
          "base_uri": "https://localhost:8080/"
        },
        "outputId": "43fbcc44-18a8-46d5-b00c-6c37e0051362"
      },
      "execution_count": null,
      "outputs": [
        {
          "output_type": "stream",
          "name": "stdout",
          "text": [
            "Requirement already satisfied: roboflow in /usr/local/lib/python3.10/dist-packages (1.1.9)\n",
            "Requirement already satisfied: certifi==2023.7.22 in /usr/local/lib/python3.10/dist-packages (from roboflow) (2023.7.22)\n",
            "Requirement already satisfied: chardet==4.0.0 in /usr/local/lib/python3.10/dist-packages (from roboflow) (4.0.0)\n",
            "Requirement already satisfied: cycler==0.10.0 in /usr/local/lib/python3.10/dist-packages (from roboflow) (0.10.0)\n",
            "Requirement already satisfied: idna==2.10 in /usr/local/lib/python3.10/dist-packages (from roboflow) (2.10)\n",
            "Requirement already satisfied: kiwisolver>=1.3.1 in /usr/local/lib/python3.10/dist-packages (from roboflow) (1.4.5)\n",
            "Requirement already satisfied: matplotlib in /usr/local/lib/python3.10/dist-packages (from roboflow) (3.7.1)\n",
            "Requirement already satisfied: numpy>=1.18.5 in /usr/local/lib/python3.10/dist-packages (from roboflow) (1.23.5)\n",
            "Requirement already satisfied: opencv-python-headless==4.8.0.74 in /usr/local/lib/python3.10/dist-packages (from roboflow) (4.8.0.74)\n",
            "Requirement already satisfied: Pillow>=7.1.2 in /usr/local/lib/python3.10/dist-packages (from roboflow) (10.1.0)\n",
            "Requirement already satisfied: pyparsing==2.4.7 in /usr/local/lib/python3.10/dist-packages (from roboflow) (2.4.7)\n",
            "Requirement already satisfied: python-dateutil in /usr/local/lib/python3.10/dist-packages (from roboflow) (2.8.2)\n",
            "Requirement already satisfied: python-dotenv in /usr/local/lib/python3.10/dist-packages (from roboflow) (1.0.0)\n",
            "Requirement already satisfied: requests in /usr/local/lib/python3.10/dist-packages (from roboflow) (2.31.0)\n",
            "Requirement already satisfied: six in /usr/local/lib/python3.10/dist-packages (from roboflow) (1.16.0)\n",
            "Requirement already satisfied: supervision in /usr/local/lib/python3.10/dist-packages (from roboflow) (0.16.0)\n",
            "Requirement already satisfied: urllib3>=1.26.6 in /usr/local/lib/python3.10/dist-packages (from roboflow) (2.0.7)\n",
            "Requirement already satisfied: tqdm>=4.41.0 in /usr/local/lib/python3.10/dist-packages (from roboflow) (4.66.1)\n",
            "Requirement already satisfied: PyYAML>=5.3.1 in /usr/local/lib/python3.10/dist-packages (from roboflow) (6.0.1)\n",
            "Requirement already satisfied: requests-toolbelt in /usr/local/lib/python3.10/dist-packages (from roboflow) (1.0.0)\n",
            "Requirement already satisfied: python-magic in /usr/local/lib/python3.10/dist-packages (from roboflow) (0.4.27)\n",
            "Requirement already satisfied: contourpy>=1.0.1 in /usr/local/lib/python3.10/dist-packages (from matplotlib->roboflow) (1.2.0)\n",
            "Requirement already satisfied: fonttools>=4.22.0 in /usr/local/lib/python3.10/dist-packages (from matplotlib->roboflow) (4.44.3)\n",
            "Requirement already satisfied: packaging>=20.0 in /usr/local/lib/python3.10/dist-packages (from matplotlib->roboflow) (23.2)\n",
            "Requirement already satisfied: charset-normalizer<4,>=2 in /usr/local/lib/python3.10/dist-packages (from requests->roboflow) (3.3.2)\n",
            "Requirement already satisfied: scipy<2.0.0,>=1.9.0 in /usr/local/lib/python3.10/dist-packages (from supervision->roboflow) (1.11.3)\n",
            "loading Roboflow workspace...\n",
            "loading Roboflow project...\n"
          ]
        },
        {
          "output_type": "stream",
          "name": "stderr",
          "text": [
            "Downloading Dataset Version Zip in Gem-3 to folder:: 100%|██████████| 4137/4137 [00:00<00:00, 60586.44it/s]"
          ]
        },
        {
          "output_type": "stream",
          "name": "stdout",
          "text": [
            "\n"
          ]
        },
        {
          "output_type": "stream",
          "name": "stderr",
          "text": [
            "\n",
            "Extracting Dataset Version Zip to Gem-3 in folder:: 100%|██████████| 651/651 [00:00<00:00, 6566.07it/s]\n"
          ]
        }
      ]
    },
    {
      "cell_type": "code",
      "source": [
        "#Folder renaming because of a bug in the base YOLOv5 script\n",
        "import os\n",
        "os.rename(\"/content/yolov5/Gem-3/valid\", \"/content/yolov5/Gem-3/val\")"
      ],
      "metadata": {
        "id": "yP47lQ53SSrf"
      },
      "execution_count": null,
      "outputs": []
    },
    {
      "cell_type": "markdown",
      "source": [
        "# Training YOLOv5 model for 100 epoch"
      ],
      "metadata": {
        "id": "wNWF-fymYBAu"
      }
    },
    {
      "cell_type": "code",
      "source": [
        "%cd ../yolov5\n",
        "!python classify/train.py --model yolov5m-cls.pt --data /content/yolov5/Gem-3 --epochs 100"
      ],
      "metadata": {
        "id": "MXWTTN2BEaqe",
        "colab": {
          "base_uri": "https://localhost:8080/"
        },
        "outputId": "5f9e5001-7611-4d16-b7f2-fe324358842c"
      },
      "execution_count": null,
      "outputs": [
        {
          "output_type": "stream",
          "name": "stdout",
          "text": [
            "/content/yolov5\n",
            "2023-11-27 19:59:35.056605: E tensorflow/compiler/xla/stream_executor/cuda/cuda_dnn.cc:9342] Unable to register cuDNN factory: Attempting to register factory for plugin cuDNN when one has already been registered\n",
            "2023-11-27 19:59:35.056653: E tensorflow/compiler/xla/stream_executor/cuda/cuda_fft.cc:609] Unable to register cuFFT factory: Attempting to register factory for plugin cuFFT when one has already been registered\n",
            "2023-11-27 19:59:35.056688: E tensorflow/compiler/xla/stream_executor/cuda/cuda_blas.cc:1518] Unable to register cuBLAS factory: Attempting to register factory for plugin cuBLAS when one has already been registered\n",
            "\u001b[34m\u001b[1mclassify/train: \u001b[0mmodel=yolov5m-cls.pt, data=/content/yolov5/Gem-3, epochs=100, batch_size=64, imgsz=224, nosave=False, cache=None, device=, workers=8, project=runs/train-cls, name=exp, exist_ok=False, pretrained=True, optimizer=Adam, lr0=0.001, decay=5e-05, label_smoothing=0.1, cutoff=None, dropout=None, verbose=False, seed=0, local_rank=-1\n",
            "\u001b[34m\u001b[1mgithub: \u001b[0mup to date with https://github.com/ultralytics/yolov5 ✅\n",
            "YOLOv5 🚀 v7.0-247-g3f02fde Python-3.10.12 torch-2.1.0+cu118 CUDA:0 (Tesla T4, 15102MiB)\n",
            "\n",
            "\u001b[34m\u001b[1mTensorBoard: \u001b[0mStart with 'tensorboard --logdir runs/train-cls', view at http://localhost:6006/\n",
            "\u001b[34m\u001b[1malbumentations: \u001b[0mRandomResizedCrop(p=1.0, height=224, width=224, scale=(0.08, 1.0), ratio=(0.75, 1.3333333333333333), interpolation=1), HorizontalFlip(p=0.5), ColorJitter(p=0.5, brightness=[0.6, 1.4], contrast=[0.6, 1.4], saturation=[0.6, 1.4], hue=[0, 0]), Normalize(p=1.0, mean=(0.485, 0.456, 0.406), std=(0.229, 0.224, 0.225), max_pixel_value=255.0), ToTensorV2(always_apply=True, p=1.0, transpose_mask=False)\n",
            "Downloading https://github.com/ultralytics/yolov5/releases/download/v7.0/yolov5m-cls.pt to yolov5m-cls.pt...\n",
            "100% 24.9M/24.9M [00:00<00:00, 225MB/s]\n",
            "\n",
            "Model summary: 212 layers, 11681764 parameters, 11681764 gradients, 30.9 GFLOPs\n",
            "\u001b[34m\u001b[1moptimizer:\u001b[0m Adam(lr=0.001) with parameter groups 46 weight(decay=0.0), 47 weight(decay=5e-05), 47 bias\n",
            "Image sizes 224 train, 224 test\n",
            "Using 1 dataloader workers\n",
            "Logging results to \u001b[1mruns/train-cls/exp2\u001b[0m\n",
            "Starting yolov5m-cls.pt training on /content/yolov5/Gem-3 dataset with 4 classes for 100 epochs...\n",
            "\n",
            "     Epoch   GPU_mem  train_loss   test_loss    top1_acc    top5_acc\n",
            "     1/100     2.31G       0.777       0.678       0.909           1: 100% 9/9 [00:03<00:00,  2.82it/s]\n",
            "     2/100     2.31G       0.572       0.739       0.909           1: 100% 9/9 [00:01<00:00,  5.56it/s]\n",
            "     3/100     2.31G       0.508       0.544           1           1: 100% 9/9 [00:01<00:00,  5.56it/s]\n",
            "     4/100     2.31G       0.462        0.58       0.909           1: 100% 9/9 [00:01<00:00,  4.79it/s]\n",
            "     5/100     2.31G       0.428       0.548       0.909           1: 100% 9/9 [00:02<00:00,  3.24it/s]\n",
            "     6/100     2.31G       0.446       0.475           1           1: 100% 9/9 [00:02<00:00,  4.19it/s]\n",
            "     7/100     2.31G       0.441       0.484           1           1: 100% 9/9 [00:01<00:00,  5.32it/s]\n",
            "     8/100     2.31G       0.445       0.403           1           1: 100% 9/9 [00:01<00:00,  5.43it/s]\n",
            "     9/100     2.31G        0.42       0.577       0.909           1: 100% 9/9 [00:01<00:00,  5.60it/s]\n",
            "    10/100     2.31G       0.418        0.54       0.909           1: 100% 9/9 [00:01<00:00,  5.38it/s]\n",
            "    11/100     2.31G       0.399       0.416           1           1: 100% 9/9 [00:02<00:00,  4.49it/s]\n",
            "    12/100     2.31G       0.428       0.416           1           1: 100% 9/9 [00:02<00:00,  3.71it/s]\n",
            "    13/100     2.31G       0.409        0.42           1           1: 100% 9/9 [00:01<00:00,  5.33it/s]\n",
            "    14/100     2.31G       0.392       0.397           1           1: 100% 9/9 [00:01<00:00,  5.45it/s]\n",
            "    15/100     2.31G       0.414       0.452       0.909           1: 100% 9/9 [00:01<00:00,  5.38it/s]\n",
            "    16/100     2.31G       0.421       0.385           1           1: 100% 9/9 [00:01<00:00,  5.36it/s]\n",
            "    17/100     2.31G       0.414       0.378           1           1: 100% 9/9 [00:01<00:00,  5.45it/s]\n",
            "    18/100     2.31G       0.399       0.368           1           1: 100% 9/9 [00:02<00:00,  4.01it/s]\n",
            "    19/100     2.31G       0.382       0.385           1           1: 100% 9/9 [00:02<00:00,  3.65it/s]\n",
            "    20/100     2.31G       0.391       0.366           1           1: 100% 9/9 [00:01<00:00,  5.60it/s]\n",
            "    21/100     2.31G       0.374       0.363           1           1: 100% 9/9 [00:01<00:00,  5.42it/s]\n",
            "    22/100     2.31G       0.386       0.522       0.909           1: 100% 9/9 [00:01<00:00,  5.06it/s]\n",
            "    23/100     2.31G       0.395       0.378           1           1: 100% 9/9 [00:02<00:00,  3.79it/s]\n",
            "    24/100     2.31G       0.391        0.41           1           1: 100% 9/9 [00:01<00:00,  4.68it/s]\n",
            "    25/100     2.31G       0.395       0.497       0.909           1: 100% 9/9 [00:02<00:00,  3.59it/s]\n",
            "    26/100     2.31G       0.383       0.425       0.909           1: 100% 9/9 [00:01<00:00,  4.56it/s]\n",
            "    27/100     2.31G        0.39       0.395           1           1: 100% 9/9 [00:02<00:00,  4.22it/s]\n",
            "    28/100     2.31G       0.379       0.384           1           1: 100% 9/9 [00:01<00:00,  5.38it/s]\n",
            "    29/100     2.31G       0.385       0.434       0.909           1: 100% 9/9 [00:01<00:00,  5.45it/s]\n",
            "    30/100     2.31G       0.382       0.363           1           1: 100% 9/9 [00:02<00:00,  4.19it/s]\n",
            "    31/100     2.31G       0.382       0.357           1           1: 100% 9/9 [00:02<00:00,  3.37it/s]\n",
            "    32/100     2.31G       0.389       0.456           1           1: 100% 9/9 [00:01<00:00,  4.57it/s]\n",
            "    33/100     2.31G       0.399       0.371           1           1: 100% 9/9 [00:01<00:00,  4.87it/s]\n",
            "    34/100     2.31G       0.386       0.383           1           1: 100% 9/9 [00:01<00:00,  4.81it/s]\n",
            "    35/100     2.31G        0.39       0.365           1           1: 100% 9/9 [00:02<00:00,  4.09it/s]\n",
            "    36/100     2.31G       0.375       0.414           1           1: 100% 9/9 [00:02<00:00,  4.23it/s]\n",
            "    37/100     2.31G       0.383       0.373           1           1: 100% 9/9 [00:02<00:00,  3.75it/s]\n",
            "    38/100     2.31G       0.377       0.385           1           1: 100% 9/9 [00:01<00:00,  5.45it/s]\n",
            "    39/100     2.31G       0.375       0.366           1           1: 100% 9/9 [00:01<00:00,  5.42it/s]\n",
            "    40/100     2.31G       0.374       0.378           1           1: 100% 9/9 [00:01<00:00,  5.33it/s]\n",
            "    41/100     2.31G       0.395       0.372           1           1: 100% 9/9 [00:01<00:00,  4.69it/s]\n",
            "    42/100     2.31G       0.364       0.378           1           1: 100% 9/9 [00:02<00:00,  4.38it/s]\n",
            "    43/100     2.31G       0.376       0.366           1           1: 100% 9/9 [00:02<00:00,  3.96it/s]\n",
            "    44/100     2.31G       0.385       0.359           1           1: 100% 9/9 [00:01<00:00,  4.73it/s]\n",
            "    45/100     2.31G       0.381       0.377           1           1: 100% 9/9 [00:01<00:00,  5.53it/s]\n",
            "    46/100     2.31G       0.367       0.375           1           1: 100% 9/9 [00:01<00:00,  5.36it/s]\n",
            "    47/100     2.31G       0.362       0.369           1           1: 100% 9/9 [00:01<00:00,  5.49it/s]\n",
            "    48/100     2.31G       0.363       0.367           1           1: 100% 9/9 [00:01<00:00,  5.45it/s]\n",
            "    49/100     2.31G       0.372       0.358           1           1: 100% 9/9 [00:01<00:00,  4.61it/s]\n",
            "    50/100     2.31G       0.371       0.359           1           1: 100% 9/9 [00:02<00:00,  3.87it/s]\n",
            "    51/100     2.31G       0.366       0.359           1           1: 100% 9/9 [00:01<00:00,  4.78it/s]\n",
            "    52/100     2.31G       0.361       0.358           1           1: 100% 9/9 [00:01<00:00,  5.33it/s]\n",
            "    53/100     2.31G       0.362       0.361           1           1: 100% 9/9 [00:01<00:00,  5.42it/s]\n",
            "    54/100     2.31G       0.364       0.363           1           1: 100% 9/9 [00:01<00:00,  5.42it/s]\n",
            "    55/100     2.31G       0.365       0.369           1           1: 100% 9/9 [00:01<00:00,  5.38it/s]\n",
            "    56/100     2.31G       0.361       0.356           1           1: 100% 9/9 [00:02<00:00,  4.03it/s]\n",
            "    57/100     2.31G       0.366       0.367           1           1: 100% 9/9 [00:02<00:00,  3.92it/s]\n",
            "    58/100     2.31G       0.368       0.368           1           1: 100% 9/9 [00:01<00:00,  5.50it/s]\n",
            "    59/100     2.31G       0.362       0.359           1           1: 100% 9/9 [00:01<00:00,  5.46it/s]\n",
            "    60/100     2.31G       0.364       0.359           1           1: 100% 9/9 [00:01<00:00,  4.72it/s]\n",
            "    61/100     2.31G       0.364        0.36           1           1: 100% 9/9 [00:01<00:00,  5.54it/s]\n",
            "    62/100     2.31G       0.368       0.366           1           1: 100% 9/9 [00:01<00:00,  5.06it/s]\n",
            "    63/100     2.31G       0.357       0.355           1           1: 100% 9/9 [00:02<00:00,  3.18it/s]\n",
            "    64/100     2.31G       0.359       0.353           1           1: 100% 9/9 [00:01<00:00,  4.60it/s]\n",
            "    65/100     2.31G       0.356       0.352           1           1: 100% 9/9 [00:01<00:00,  5.38it/s]\n",
            "    66/100     2.31G       0.356       0.355           1           1: 100% 9/9 [00:01<00:00,  5.08it/s]\n",
            "    67/100     2.31G       0.358       0.369           1           1: 100% 9/9 [00:01<00:00,  4.80it/s]\n",
            "    68/100     2.31G        0.36       0.357           1           1: 100% 9/9 [00:02<00:00,  4.26it/s]\n",
            "    69/100     2.31G       0.365       0.354           1           1: 100% 9/9 [00:03<00:00,  2.87it/s]\n",
            "    70/100     2.31G       0.361       0.358           1           1: 100% 9/9 [00:02<00:00,  4.16it/s]\n",
            "    71/100     2.31G       0.364       0.358           1           1: 100% 9/9 [00:02<00:00,  4.33it/s]\n",
            "    72/100     2.31G       0.366       0.354           1           1: 100% 9/9 [00:01<00:00,  4.86it/s]\n",
            "    73/100     2.31G       0.355       0.353           1           1: 100% 9/9 [00:01<00:00,  5.30it/s]\n",
            "    74/100     2.31G       0.365       0.354           1           1: 100% 9/9 [00:01<00:00,  5.34it/s]\n",
            "    75/100     2.31G        0.36       0.354           1           1: 100% 9/9 [00:02<00:00,  3.23it/s]\n",
            "    76/100     2.31G        0.36       0.354           1           1: 100% 9/9 [00:01<00:00,  4.74it/s]\n",
            "    77/100     2.31G       0.361       0.353           1           1: 100% 9/9 [00:01<00:00,  5.02it/s]\n",
            "    78/100     2.31G       0.359       0.354           1           1: 100% 9/9 [00:01<00:00,  5.31it/s]\n",
            "    79/100     2.31G       0.355       0.354           1           1: 100% 9/9 [00:01<00:00,  5.57it/s]\n",
            "    80/100     2.31G       0.358       0.356           1           1: 100% 9/9 [00:01<00:00,  5.37it/s]\n",
            "    81/100     2.31G       0.357       0.354           1           1: 100% 9/9 [00:02<00:00,  3.39it/s]\n",
            "    82/100     2.31G       0.355       0.355           1           1: 100% 9/9 [00:02<00:00,  3.78it/s]\n",
            "    83/100     2.31G       0.358       0.355           1           1: 100% 9/9 [00:01<00:00,  5.41it/s]\n",
            "    84/100     2.31G       0.358       0.358           1           1: 100% 9/9 [00:01<00:00,  5.39it/s]\n",
            "    85/100     2.31G       0.357       0.355           1           1: 100% 9/9 [00:01<00:00,  5.25it/s]\n",
            "    86/100     2.31G       0.356       0.355           1           1: 100% 9/9 [00:01<00:00,  5.47it/s]\n",
            "    87/100     2.31G       0.357       0.357           1           1: 100% 9/9 [00:01<00:00,  5.00it/s]\n",
            "    88/100     2.31G       0.353       0.356           1           1: 100% 9/9 [00:02<00:00,  3.77it/s]\n",
            "    89/100     2.31G       0.354       0.354           1           1: 100% 9/9 [00:01<00:00,  4.85it/s]\n",
            "    90/100     2.31G       0.357       0.352           1           1: 100% 9/9 [00:01<00:00,  5.50it/s]\n",
            "    91/100     2.31G       0.357       0.351           1           1: 100% 9/9 [00:01<00:00,  5.41it/s]\n",
            "    92/100     2.31G       0.358       0.351           1           1: 100% 9/9 [00:01<00:00,  5.39it/s]\n",
            "    93/100     2.31G       0.355       0.351           1           1: 100% 9/9 [00:01<00:00,  5.68it/s]\n",
            "    94/100     2.31G       0.357       0.351           1           1: 100% 9/9 [00:02<00:00,  4.33it/s]\n",
            "    95/100     2.31G       0.353       0.352           1           1: 100% 9/9 [00:02<00:00,  3.89it/s]\n",
            "    96/100     2.31G       0.356       0.352           1           1: 100% 9/9 [00:01<00:00,  5.42it/s]\n",
            "    97/100     2.31G       0.356       0.352           1           1: 100% 9/9 [00:01<00:00,  5.13it/s]\n",
            "    98/100     2.31G       0.353       0.352           1           1: 100% 9/9 [00:01<00:00,  5.53it/s]\n",
            "    99/100     2.31G       0.353       0.352           1           1: 100% 9/9 [00:01<00:00,  5.33it/s]\n",
            "   100/100     2.31G       0.353       0.351           1           1: 100% 9/9 [00:01<00:00,  5.32it/s]\n",
            "\n",
            "Training complete (0.064 hours)\n",
            "Results saved to \u001b[1mruns/train-cls/exp2\u001b[0m\n",
            "Predict:         python classify/predict.py --weights runs/train-cls/exp2/weights/best.pt --source im.jpg\n",
            "Validate:        python classify/val.py --weights runs/train-cls/exp2/weights/best.pt --data /content/yolov5/Gem-3\n",
            "Export:          python export.py --weights runs/train-cls/exp2/weights/best.pt --include onnx\n",
            "PyTorch Hub:     model = torch.hub.load('ultralytics/yolov5', 'custom', 'runs/train-cls/exp2/weights/best.pt')\n",
            "Visualize:       https://netron.app\n",
            "\n"
          ]
        }
      ]
    },
    {
      "cell_type": "markdown",
      "source": [
        "# Testing trained modell\n",
        "Very few images, so the test set is minimal"
      ],
      "metadata": {
        "id": "Ha0PQuflYQOj"
      }
    },
    {
      "cell_type": "code",
      "source": [
        "!python classify/val.py --weights runs/train-cls/exp/weights/best.pt --data /content/yolov5/Gem-3"
      ],
      "metadata": {
        "id": "DIV7ydyKGZFL",
        "colab": {
          "base_uri": "https://localhost:8080/"
        },
        "outputId": "1a6b3f84-6fdf-47e8-aed5-8b497e3523d4"
      },
      "execution_count": null,
      "outputs": [
        {
          "output_type": "stream",
          "name": "stdout",
          "text": [
            "\u001b[34m\u001b[1mclassify/val: \u001b[0mdata=/content/yolov5/Gem-3, weights=['runs/train-cls/exp/weights/best.pt'], batch_size=128, imgsz=224, device=, workers=8, verbose=True, project=runs/val-cls, name=exp, exist_ok=False, half=False, dnn=False\n",
            "YOLOv5 🚀 v7.0-247-g3f02fde Python-3.10.12 torch-2.1.0+cu118 CUDA:0 (Tesla T4, 15102MiB)\n",
            "\n",
            "Fusing layers... \n",
            "Model summary: 166 layers, 11671316 parameters, 0 gradients, 30.6 GFLOPs\n",
            "testing: 100% 1/1 [00:00<00:00,  2.55it/s]\n",
            "                   Class      Images    top1_acc    top5_acc\n",
            "                     all          11           1           1\n",
            "                Amethyst           2           1           1\n",
            "                 Emerald           3           1           1\n",
            "                    Ruby           3           1           1\n",
            "                Sapphire           3           1           1\n",
            "Speed: 0.1ms pre-process, 25.9ms inference, 2.0ms post-process per image at shape (1, 3, 224, 224)\n",
            "Results saved to \u001b[1mruns/val-cls/exp3\u001b[0m\n"
          ]
        }
      ]
    },
    {
      "cell_type": "code",
      "source": [],
      "metadata": {
        "id": "yqmanOF1YbL2"
      },
      "execution_count": null,
      "outputs": []
    }
  ]
}