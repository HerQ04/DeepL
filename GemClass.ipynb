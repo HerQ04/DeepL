{
  "nbformat": 4,
  "nbformat_minor": 0,
  "metadata": {
    "colab": {
      "provenance": []
    },
    "kernelspec": {
      "name": "python3",
      "display_name": "Python 3"
    },
    "language_info": {
      "name": "python"
    },
    "accelerator": "GPU",
    "gpuClass": "standard"
  },
  "cells": [
    {
      "cell_type": "markdown",
      "source": [
        "<a target=\"_blank\" href=\"https://colab.research.google.com/github/HerQTheToxic/DeepL/blob/main/GemClass.ipynb\">\n",
        "  <img src=\"https://colab.research.google.com/assets/colab-badge.svg\" alt=\"Open In Colab\"/>\n",
        "</a>"
      ],
      "metadata": {
        "id": "xHUiPcaHoZCI"
      }
    },
    {
      "cell_type": "markdown",
      "source": [
        "# Installing dependencies and downloading dataset"
      ],
      "metadata": {
        "id": "ZRRYJflLXq0r"
      }
    },
    {
      "cell_type": "code",
      "execution_count": null,
      "metadata": {
        "id": "pIM7fOwm8A7l"
      },
      "outputs": [],
      "source": [
        "!git clone https://github.com/ultralytics/yolov5  # clone\n",
        "%cd yolov5\n",
        "%pip install -qr requirements.txt  # install\n",
        "\n",
        "import torch\n",
        "import utils\n",
        "display = utils.notebook_init()  # checks"
      ]
    },
    {
      "cell_type": "code",
      "source": [
        "\n",
        "!pip install roboflow\n",
        "\n",
        "from roboflow import Roboflow\n",
        "rf = Roboflow(api_key=\"FYXm4j188EfCcP2ODqYO\")\n",
        "project = rf.workspace(\"msc-onlab-1\").project(\"gem-q84tk\")\n",
        "dataset = project.version(3).download(\"folder\")\n"
      ],
      "metadata": {
        "id": "He6JwHIlG-W_"
      },
      "execution_count": null,
      "outputs": []
    },
    {
      "cell_type": "code",
      "source": [
        "#Folder renaming because of a bug in the base YOLOv5 script (2023.12.01)\n",
        "import os\n",
        "os.rename(\"/content/yolov5/Gem-3/valid\", \"/content/yolov5/Gem-3/val\")"
      ],
      "metadata": {
        "id": "yP47lQ53SSrf"
      },
      "execution_count": null,
      "outputs": []
    },
    {
      "cell_type": "markdown",
      "source": [
        "# Training YOLOv5 model for 100 epoch"
      ],
      "metadata": {
        "id": "wNWF-fymYBAu"
      }
    },
    {
      "cell_type": "code",
      "source": [
        "%cd ../yolov5\n",
        "!python classify/train.py --model yolov5m-cls.pt --data /content/yolov5/Gem-3 --epochs 100"
      ],
      "metadata": {
        "id": "MgN8gTq31eaW"
      },
      "execution_count": null,
      "outputs": []
    },
    {
      "cell_type": "markdown",
      "source": [
        "# Testing trained modell\n",
        "Very few images, so the test set is minimal"
      ],
      "metadata": {
        "id": "Ha0PQuflYQOj"
      }
    },
    {
      "cell_type": "code",
      "source": [
        "!python classify/val.py --weights runs/train-cls/exp/weights/best.pt --data /content/yolov5/Gem-3"
      ],
      "metadata": {
        "id": "DIV7ydyKGZFL"
      },
      "execution_count": null,
      "outputs": []
    }
  ]
}